{
  "cells": [
    {
      "cell_type": "code",
      "execution_count": null,
      "id": "c54f05a9",
      "metadata": {
        "ExecuteTime": {
          "end_time": "2022-01-24T10:17:07.562711Z",
          "start_time": "2022-01-24T10:17:07.560812Z"
        },
        "id": "c54f05a9"
      },
      "outputs": [],
      "source": [
        "# -*- coding: utf-8 -*-\n",
        "#  File: otus_adv_hw1_automl_mljar.ipynb\n",
        "#  Project: 'OTUS.ADV Homework #1'\n",
        "#  Created by Gennady Matveev (gm@og.ly) on 06-01-2022."
      ]
    },
    {
      "cell_type": "markdown",
      "id": "21bb5510",
      "metadata": {
        "ExecuteTime": {
          "end_time": "2022-01-02T13:46:23.992038Z",
          "start_time": "2022-01-02T13:46:23.986201Z"
        },
        "id": "21bb5510"
      },
      "source": [
        "# **$Homework$** **$1$**  \n",
        "**OTUS Machine Learning Advanced**"
      ]
    },
    {
      "cell_type": "markdown",
      "id": "fa867b15",
      "metadata": {
        "ExecuteTime": {
          "end_time": "2022-01-02T13:47:36.147285Z",
          "start_time": "2022-01-02T13:47:36.137987Z"
        },
        "id": "fa867b15"
      },
      "source": [
        "Goals:   \n",
        "- AutoML: try out automatic feature generation/selection and modelling; \n",
        "- Compare AutoML performance in AutoML mljar-supervised library  \n",
        "    https://github.com/mljar/mljar-supervised  \n",
        "    with baseline and two out of the box models.\n",
        "\n",
        "In addition, will try ensembling of autoML models.\n",
        "\n",
        "Means:  \n",
        "- AutoML tasks will be given to **mljar-supervised**;\n",
        "- All preprocessing and pipelines management will be done in ATOM  \n",
        "    https://tvdboom.github.io/ATOM/about/."
      ]
    },
    {
      "cell_type": "markdown",
      "id": "b1cfb815",
      "metadata": {
        "id": "b1cfb815"
      },
      "source": [
        "Dataset:\n",
        "- Richter's Predictor: Modeling Earthquake Damage  \n",
        "https://www.drivendata.org/competitions/57/nepal-earthquake/data/"
      ]
    },
    {
      "cell_type": "markdown",
      "id": "2741da68",
      "metadata": {
        "id": "2741da68"
      },
      "source": [
        "Abbreviations:\n",
        "- BO: bayesian optimization\n",
        "- BA: balanced accuracy\n",
        "- H/P: hyperparameters\n",
        "- OOB: out of the box"
      ]
    },
    {
      "cell_type": "markdown",
      "id": "e4b897d7",
      "metadata": {
        "id": "e4b897d7"
      },
      "source": [
        "### Choice of models\n",
        "- Random Forest and CatBoost classifiers will compete with AutoML solution\n",
        "\n",
        "Methodology:\n",
        "- OOB models' hyperparameters will be tuned with BO primarily to get some CV statistics and to level up the competition ground.  \n",
        "- Weighted F1 score will be used as the main performance metrics following  suggestion of the  \n",
        "competition organizers.  "
      ]
    },
    {
      "cell_type": "markdown",
      "id": "c9d30184",
      "metadata": {
        "id": "c9d30184"
      },
      "source": [
        "<a href=\"https://colab.research.google.com/github/oort77/OTUS_ADV_HW1/blob/main/notebooks/otus_adv_hw1_automl_mljar.ipynb\" target=\"_parent\"><img src=\"https://colab.research.google.com/assets/colab-badge.svg\" alt=\"Open In Colab\"/></a>"
      ]
    },
    {
      "cell_type": "markdown",
      "id": "f0d57936",
      "metadata": {
        "id": "f0d57936"
      },
      "source": [
        "### Google colab specific part"
      ]
    },
    {
      "cell_type": "markdown",
      "id": "114f988d",
      "metadata": {
        "id": "114f988d"
      },
      "source": [
        "Typical runtime on Colab is around 2.5 hours unless you set **total_time_limit** of automl_model in _MLJAR AutoML section_ to lower value.\n",
        ". Please uncomment below to install the notebook dependencies.  \n",
        "\n",
        "Dependencies installation requires restart of runtime.\n"
      ]
    },
    {
      "cell_type": "code",
      "execution_count": null,
      "id": "a03f73ee",
      "metadata": {
        "ExecuteTime": {
          "end_time": "2022-01-24T10:17:07.660198Z",
          "start_time": "2022-01-24T10:17:07.563926Z"
        },
        "id": "a03f73ee"
      },
      "outputs": [],
      "source": [
        "# !pip install -r 'https://drive.google.com/uc?export=download&id=1VmHDlGXo1IMHZ2kAT5IW4r4suWAfmiXs'"
      ]
    },
    {
      "cell_type": "markdown",
      "id": "e72253ae",
      "metadata": {
        "ExecuteTime": {
          "end_time": "2022-01-02T13:55:42.779148Z",
          "start_time": "2022-01-02T13:55:42.775713Z"
        },
        "id": "e72253ae"
      },
      "source": [
        "### Import libraries and setup notebook"
      ]
    },
    {
      "cell_type": "code",
      "execution_count": null,
      "id": "98da7bb2",
      "metadata": {
        "ExecuteTime": {
          "end_time": "2022-01-24T10:17:09.563528Z",
          "start_time": "2022-01-24T10:17:07.664048Z"
        },
        "id": "98da7bb2",
        "outputId": "ffbc38b9-472b-42d8-fa2f-1959d67a3590"
      },
      "outputs": [
        {
          "name": "stderr",
          "output_type": "stream",
          "text": [
            "pandas.Int64Index is deprecated and will be removed from pandas in a future version. Use pandas.Index with the appropriate dtype instead.\n",
            "pandas.Int64Index is deprecated and will be removed from pandas in a future version. Use pandas.Index with the appropriate dtype instead.\n"
          ]
        }
      ],
      "source": [
        "import os\n",
        "import pandas as pd\n",
        "import numpy as np\n",
        "from atom import ATOMClassifier, ATOMModel\n",
        "from sklearn.preprocessing import StandardScaler, \\\n",
        "                    RobustScaler\n",
        "from sklearn.model_selection import train_test_split\n",
        "from sklearn.metrics import f1_score\n",
        "from supervised.automl import AutoML # mljar-supervised\n",
        "\n",
        "import matplotlib.pyplot as plt\n",
        "import seaborn as sns\n",
        "\n",
        "import gdown\n",
        "import random\n",
        "import shutil\n",
        "import warnings\n",
        "from IPython.core.display import display, HTML"
      ]
    },
    {
      "cell_type": "markdown",
      "id": "b1e9a5dd",
      "metadata": {
        "id": "b1e9a5dd"
      },
      "source": [
        "#### Miscellaneius settings "
      ]
    },
    {
      "cell_type": "code",
      "execution_count": null,
      "id": "05f75f48",
      "metadata": {
        "ExecuteTime": {
          "end_time": "2022-01-24T10:17:09.570749Z",
          "start_time": "2022-01-24T10:17:09.564556Z"
        },
        "id": "05f75f48",
        "outputId": "ab2e8629-bb8f-429b-ac12-6f5dadc971e2"
      },
      "outputs": [
        {
          "data": {
            "text/html": [
              "<style>.container { width:80% !important; }</style>"
            ],
            "text/plain": [
              "<IPython.core.display.HTML object>"
            ]
          },
          "metadata": {},
          "output_type": "display_data"
        }
      ],
      "source": [
        "%matplotlib inline\n",
        "display(HTML(\"<style>.container { width:80% !important; }</style>\"))\n",
        "%config InlineBackend.figure_format = 'retina'\n",
        "plt.rcParams['figure.figsize']=(10,5)\n",
        "sns.set(rc = {'figure.figsize':(8,5)})\n",
        "warnings.filterwarnings(\"ignore\")\n",
        "pd.options.display.precision = 4"
      ]
    },
    {
      "cell_type": "markdown",
      "id": "21f223e6",
      "metadata": {
        "id": "21f223e6"
      },
      "source": [
        "#### ML parameters"
      ]
    },
    {
      "cell_type": "code",
      "execution_count": null,
      "id": "45a2a084",
      "metadata": {
        "ExecuteTime": {
          "end_time": "2022-01-24T10:17:09.640384Z",
          "start_time": "2022-01-24T10:17:09.572096Z"
        },
        "id": "45a2a084"
      },
      "outputs": [],
      "source": [
        "random_state = 17\n",
        "n_jobs = -1 # Try 2 on Colab\n",
        "models = [\"RF\", \"LGB\"] \n",
        "metric = [\"F1_weighted\", \"LogLoss\", \"BA\", \"precision_weighted\"] # BA stands for balanced_accuracy"
      ]
    },
    {
      "cell_type": "markdown",
      "id": "91ebd30d",
      "metadata": {
        "id": "91ebd30d"
      },
      "source": [
        "#### Parameters of BO"
      ]
    },
    {
      "cell_type": "code",
      "execution_count": null,
      "id": "3183a4fe",
      "metadata": {
        "ExecuteTime": {
          "end_time": "2022-01-24T10:17:09.740770Z",
          "start_time": "2022-01-24T10:17:09.642043Z"
        },
        "id": "3183a4fe"
      },
      "outputs": [],
      "source": [
        "n_calls = 25\n",
        "n_initial_points = 16"
      ]
    },
    {
      "cell_type": "markdown",
      "id": "e376d85d",
      "metadata": {
        "id": "e376d85d"
      },
      "source": [
        "#### Helper function"
      ]
    },
    {
      "cell_type": "code",
      "execution_count": null,
      "id": "592d78c2",
      "metadata": {
        "ExecuteTime": {
          "end_time": "2022-01-24T10:17:09.970881Z",
          "start_time": "2022-01-24T10:17:09.893593Z"
        },
        "id": "592d78c2"
      },
      "outputs": [],
      "source": [
        "def nice_metric_table(df: pd.DataFrame, metric: list) -> pd.DataFrame:\n",
        "    df1 = pd.DataFrame()\n",
        "    for col in df.columns:\n",
        "        if col.startswith(\"time\"):\n",
        "            df.drop(columns=col, inplace=True)\n",
        "    for c in df.columns:\n",
        "        df1 = pd.concat([df1, pd.DataFrame([pd.Series(x)\n",
        "                        for x in df[c]])], axis=1)\n",
        "    cols = [(init, metr) for init in df.columns for metr in metric]\n",
        "    df1.columns = pd.MultiIndex.from_tuples(cols)\n",
        "    df1.index = df.index\n",
        "    return df1"
      ]
    },
    {
      "cell_type": "markdown",
      "id": "20d2cda1",
      "metadata": {
        "id": "20d2cda1"
      },
      "source": [
        "### Load data"
      ]
    },
    {
      "cell_type": "code",
      "execution_count": null,
      "id": "c3652fb1",
      "metadata": {
        "ExecuteTime": {
          "end_time": "2022-01-24T10:17:10.482135Z",
          "start_time": "2022-01-24T10:17:09.974823Z"
        },
        "id": "c3652fb1",
        "outputId": "db9c1b6f-bcfb-43eb-8b3f-4c70f1f3607d"
      },
      "outputs": [
        {
          "name": "stderr",
          "output_type": "stream",
          "text": [
            "Downloading...\n",
            "From: https://drive.google.com/uc?export=download&id=1Z2PeT1anXzFc49yukOQhJbKi0HNfz2wd\n",
            "To: /home/gm/notebooks/OTUS/OTUS.ML_ADV/HW1/data/Archive.zip\n",
            "100%|██████████| 7.25M/7.25M [00:00<00:00, 36.1MB/s]\n"
          ]
        },
        {
          "data": {
            "text/html": [
              "<div>\n",
              "<style scoped>\n",
              "    .dataframe tbody tr th:only-of-type {\n",
              "        vertical-align: middle;\n",
              "    }\n",
              "\n",
              "    .dataframe tbody tr th {\n",
              "        vertical-align: top;\n",
              "    }\n",
              "\n",
              "    .dataframe thead th {\n",
              "        text-align: right;\n",
              "    }\n",
              "</style>\n",
              "<table border=\"1\" class=\"dataframe\">\n",
              "  <thead>\n",
              "    <tr style=\"text-align: right;\">\n",
              "      <th></th>\n",
              "      <th>geo_level_1_id</th>\n",
              "      <th>geo_level_2_id</th>\n",
              "      <th>geo_level_3_id</th>\n",
              "      <th>count_floors_pre_eq</th>\n",
              "      <th>age</th>\n",
              "      <th>area_percentage</th>\n",
              "      <th>height_percentage</th>\n",
              "      <th>land_surface_condition</th>\n",
              "      <th>foundation_type</th>\n",
              "      <th>roof_type</th>\n",
              "      <th>...</th>\n",
              "      <th>has_secondary_use_hotel</th>\n",
              "      <th>has_secondary_use_rental</th>\n",
              "      <th>has_secondary_use_institution</th>\n",
              "      <th>has_secondary_use_school</th>\n",
              "      <th>has_secondary_use_industry</th>\n",
              "      <th>has_secondary_use_health_post</th>\n",
              "      <th>has_secondary_use_gov_office</th>\n",
              "      <th>has_secondary_use_use_police</th>\n",
              "      <th>has_secondary_use_other</th>\n",
              "      <th>damage_grade</th>\n",
              "    </tr>\n",
              "    <tr>\n",
              "      <th>building_id</th>\n",
              "      <th></th>\n",
              "      <th></th>\n",
              "      <th></th>\n",
              "      <th></th>\n",
              "      <th></th>\n",
              "      <th></th>\n",
              "      <th></th>\n",
              "      <th></th>\n",
              "      <th></th>\n",
              "      <th></th>\n",
              "      <th></th>\n",
              "      <th></th>\n",
              "      <th></th>\n",
              "      <th></th>\n",
              "      <th></th>\n",
              "      <th></th>\n",
              "      <th></th>\n",
              "      <th></th>\n",
              "      <th></th>\n",
              "      <th></th>\n",
              "      <th></th>\n",
              "    </tr>\n",
              "  </thead>\n",
              "  <tbody>\n",
              "    <tr>\n",
              "      <th>802906</th>\n",
              "      <td>6</td>\n",
              "      <td>487</td>\n",
              "      <td>12198</td>\n",
              "      <td>2</td>\n",
              "      <td>30</td>\n",
              "      <td>6</td>\n",
              "      <td>5</td>\n",
              "      <td>t</td>\n",
              "      <td>r</td>\n",
              "      <td>n</td>\n",
              "      <td>...</td>\n",
              "      <td>0</td>\n",
              "      <td>0</td>\n",
              "      <td>0</td>\n",
              "      <td>0</td>\n",
              "      <td>0</td>\n",
              "      <td>0</td>\n",
              "      <td>0</td>\n",
              "      <td>0</td>\n",
              "      <td>0</td>\n",
              "      <td>3</td>\n",
              "    </tr>\n",
              "    <tr>\n",
              "      <th>28830</th>\n",
              "      <td>8</td>\n",
              "      <td>900</td>\n",
              "      <td>2812</td>\n",
              "      <td>2</td>\n",
              "      <td>10</td>\n",
              "      <td>8</td>\n",
              "      <td>7</td>\n",
              "      <td>o</td>\n",
              "      <td>r</td>\n",
              "      <td>n</td>\n",
              "      <td>...</td>\n",
              "      <td>0</td>\n",
              "      <td>0</td>\n",
              "      <td>0</td>\n",
              "      <td>0</td>\n",
              "      <td>0</td>\n",
              "      <td>0</td>\n",
              "      <td>0</td>\n",
              "      <td>0</td>\n",
              "      <td>0</td>\n",
              "      <td>2</td>\n",
              "    </tr>\n",
              "    <tr>\n",
              "      <th>94947</th>\n",
              "      <td>21</td>\n",
              "      <td>363</td>\n",
              "      <td>8973</td>\n",
              "      <td>2</td>\n",
              "      <td>10</td>\n",
              "      <td>5</td>\n",
              "      <td>5</td>\n",
              "      <td>t</td>\n",
              "      <td>r</td>\n",
              "      <td>n</td>\n",
              "      <td>...</td>\n",
              "      <td>0</td>\n",
              "      <td>0</td>\n",
              "      <td>0</td>\n",
              "      <td>0</td>\n",
              "      <td>0</td>\n",
              "      <td>0</td>\n",
              "      <td>0</td>\n",
              "      <td>0</td>\n",
              "      <td>0</td>\n",
              "      <td>3</td>\n",
              "    </tr>\n",
              "    <tr>\n",
              "      <th>590882</th>\n",
              "      <td>22</td>\n",
              "      <td>418</td>\n",
              "      <td>10694</td>\n",
              "      <td>2</td>\n",
              "      <td>10</td>\n",
              "      <td>6</td>\n",
              "      <td>5</td>\n",
              "      <td>t</td>\n",
              "      <td>r</td>\n",
              "      <td>n</td>\n",
              "      <td>...</td>\n",
              "      <td>0</td>\n",
              "      <td>0</td>\n",
              "      <td>0</td>\n",
              "      <td>0</td>\n",
              "      <td>0</td>\n",
              "      <td>0</td>\n",
              "      <td>0</td>\n",
              "      <td>0</td>\n",
              "      <td>0</td>\n",
              "      <td>2</td>\n",
              "    </tr>\n",
              "    <tr>\n",
              "      <th>201944</th>\n",
              "      <td>11</td>\n",
              "      <td>131</td>\n",
              "      <td>1488</td>\n",
              "      <td>3</td>\n",
              "      <td>30</td>\n",
              "      <td>8</td>\n",
              "      <td>9</td>\n",
              "      <td>t</td>\n",
              "      <td>r</td>\n",
              "      <td>n</td>\n",
              "      <td>...</td>\n",
              "      <td>0</td>\n",
              "      <td>0</td>\n",
              "      <td>0</td>\n",
              "      <td>0</td>\n",
              "      <td>0</td>\n",
              "      <td>0</td>\n",
              "      <td>0</td>\n",
              "      <td>0</td>\n",
              "      <td>0</td>\n",
              "      <td>3</td>\n",
              "    </tr>\n",
              "  </tbody>\n",
              "</table>\n",
              "<p>5 rows × 39 columns</p>\n",
              "</div>"
            ],
            "text/plain": [
              "             geo_level_1_id  geo_level_2_id  geo_level_3_id  \\\n",
              "building_id                                                   \n",
              "802906                    6             487           12198   \n",
              "28830                     8             900            2812   \n",
              "94947                    21             363            8973   \n",
              "590882                   22             418           10694   \n",
              "201944                   11             131            1488   \n",
              "\n",
              "             count_floors_pre_eq  age  area_percentage  height_percentage  \\\n",
              "building_id                                                                 \n",
              "802906                         2   30                6                  5   \n",
              "28830                          2   10                8                  7   \n",
              "94947                          2   10                5                  5   \n",
              "590882                         2   10                6                  5   \n",
              "201944                         3   30                8                  9   \n",
              "\n",
              "            land_surface_condition foundation_type roof_type  ...  \\\n",
              "building_id                                                   ...   \n",
              "802906                           t               r         n  ...   \n",
              "28830                            o               r         n  ...   \n",
              "94947                            t               r         n  ...   \n",
              "590882                           t               r         n  ...   \n",
              "201944                           t               r         n  ...   \n",
              "\n",
              "            has_secondary_use_hotel has_secondary_use_rental  \\\n",
              "building_id                                                    \n",
              "802906                            0                        0   \n",
              "28830                             0                        0   \n",
              "94947                             0                        0   \n",
              "590882                            0                        0   \n",
              "201944                            0                        0   \n",
              "\n",
              "            has_secondary_use_institution has_secondary_use_school  \\\n",
              "building_id                                                          \n",
              "802906                                  0                        0   \n",
              "28830                                   0                        0   \n",
              "94947                                   0                        0   \n",
              "590882                                  0                        0   \n",
              "201944                                  0                        0   \n",
              "\n",
              "             has_secondary_use_industry  has_secondary_use_health_post  \\\n",
              "building_id                                                              \n",
              "802906                                0                              0   \n",
              "28830                                 0                              0   \n",
              "94947                                 0                              0   \n",
              "590882                                0                              0   \n",
              "201944                                0                              0   \n",
              "\n",
              "             has_secondary_use_gov_office  has_secondary_use_use_police  \\\n",
              "building_id                                                               \n",
              "802906                                  0                             0   \n",
              "28830                                   0                             0   \n",
              "94947                                   0                             0   \n",
              "590882                                  0                             0   \n",
              "201944                                  0                             0   \n",
              "\n",
              "             has_secondary_use_other  damage_grade  \n",
              "building_id                                         \n",
              "802906                             0             3  \n",
              "28830                              0             2  \n",
              "94947                              0             3  \n",
              "590882                             0             2  \n",
              "201944                             0             3  \n",
              "\n",
              "[5 rows x 39 columns]"
            ]
          },
          "execution_count": 8,
          "metadata": {},
          "output_type": "execute_result"
        }
      ],
      "source": [
        "# Download data from Google Drive\n",
        "if os.path.isdir(\"../data\") == False:\n",
        "    !mkdir ../data\n",
        "\n",
        "url = \"https://drive.google.com/uc?export=download&id=1Z2PeT1anXzFc49yukOQhJbKi0HNfz2wd\"\n",
        "gdown.download(url, output=\"../data/Archive.zip\")\n",
        "shutil.unpack_archive(\"../data/Archive.zip\", \"../data\")\n",
        "\n",
        "X = pd.read_csv('../data/train_values.csv',index_col=0)\n",
        "y = pd.read_csv('../data/train_labels.csv',index_col=0)\n",
        "df = X.join(y)\n",
        "df.head()"
      ]
    },
    {
      "cell_type": "markdown",
      "id": "4391a57a",
      "metadata": {
        "id": "4391a57a"
      },
      "source": [
        "### Take part of data"
      ]
    },
    {
      "cell_type": "code",
      "execution_count": null,
      "id": "eb7afcb7",
      "metadata": {
        "ExecuteTime": {
          "end_time": "2022-01-24T10:17:10.539922Z",
          "start_time": "2022-01-24T10:17:10.483088Z"
        },
        "id": "eb7afcb7",
        "outputId": "fdaeaae5-27e8-4ab6-8aab-504c88d9ebd2"
      },
      "outputs": [
        {
          "data": {
            "text/plain": [
              "((260601, 38), (260601,))"
            ]
          },
          "execution_count": 9,
          "metadata": {},
          "output_type": "execute_result"
        }
      ],
      "source": [
        "rand_part = 0.25 # for testing of computationally expensive parts\n",
        "partial = 0 # for rapid tests set to 1 and possibly change rand_part ratio above\n",
        "\n",
        "# Randomly select rand_part of rows\n",
        "part = sorted(random.choices(range(df.shape[0]), k=int(df.shape[0]*rand_part)))\n",
        "if partial == 0:\n",
        "    X, y = df.iloc[:,:-1], df.iloc[:,-1]\n",
        "else:\n",
        "    X, y = df.iloc[part,:-1], df.iloc[part,-1]\n",
        "# df.shape\n",
        "X.shape, y.shape"
      ]
    },
    {
      "cell_type": "markdown",
      "id": "dadd8536",
      "metadata": {
        "id": "dadd8536"
      },
      "source": [
        "### Initialize ATOM"
      ]
    },
    {
      "cell_type": "code",
      "execution_count": null,
      "id": "1d9bf404",
      "metadata": {
        "ExecuteTime": {
          "end_time": "2022-01-24T10:17:10.608177Z",
          "start_time": "2022-01-24T10:17:10.540871Z"
        },
        "id": "1d9bf404",
        "outputId": "39031ec3-b8b2-4a09-f21a-b870642c6082"
      },
      "outputs": [
        {
          "name": "stdout",
          "output_type": "stream",
          "text": [
            "<< ================== ATOM ================== >>\n",
            "Algorithm task: multiclass classification.\n",
            "Parallel processing with 8 cores.\n",
            "\n",
            "Dataset stats ==================== >>\n",
            "Shape: (260601, 39)\n",
            "Scaled: False\n",
            "Categorical features: 8 (21.1%)\n",
            "Outlier values: 126324 (1.6%)\n",
            "Duplicate samples: 12319 (4.7%)\n",
            "-------------------------------------\n",
            "Train set size: 208481\n",
            "Test set size: 52120\n",
            "-------------------------------------\n",
            "\n"
          ]
        }
      ],
      "source": [
        "atom = ATOMClassifier(X, y, test_size=0.2, n_jobs=n_jobs, verbose=1, \n",
        "                      warnings=False, random_state=random_state)"
      ]
    },
    {
      "cell_type": "markdown",
      "id": "0d629ecb",
      "metadata": {
        "id": "0d629ecb"
      },
      "source": [
        "#### Preprocessing (minimal)"
      ]
    },
    {
      "cell_type": "code",
      "execution_count": null,
      "id": "bb56cd7e",
      "metadata": {
        "ExecuteTime": {
          "end_time": "2022-01-24T10:17:11.108623Z",
          "start_time": "2022-01-24T10:17:10.638200Z"
        },
        "id": "bb56cd7e",
        "outputId": "2031052a-f968-46b7-bcc5-40f5b53bd082"
      },
      "outputs": [
        {
          "name": "stdout",
          "output_type": "stream",
          "text": [
            "Fitting Imputer...\n",
            "Imputing missing values...\n",
            "Applying data cleaning...\n",
            "Fitting Encoder...\n",
            "Encoding categorical columns...\n",
            "Fitting RobustScaler...\n",
            "Applying RobustScaler to the dataset...\n"
          ]
        }
      ],
      "source": [
        "atom.impute()\n",
        "atom.clean(drop_min_cardinality=False)#, strip_categorical=False, drop_max_cardinality=False)\n",
        "atom.encode()#frac_to_other=0.05)\n",
        "# atom.add(StandardScaler())\n",
        "atom.add(RobustScaler())\n",
        "# atom.gauss()"
      ]
    },
    {
      "cell_type": "markdown",
      "id": "f364a604",
      "metadata": {
        "id": "f364a604"
      },
      "source": [
        "### OOB models - RandomForest and LightGBM"
      ]
    },
    {
      "cell_type": "markdown",
      "id": "04b4a67b",
      "metadata": {
        "id": "04b4a67b"
      },
      "source": [
        "To put comptitors on the level ground, we will apply Bayesian H/P optimization to OOB models"
      ]
    },
    {
      "cell_type": "code",
      "execution_count": null,
      "id": "49477033",
      "metadata": {
        "id": "49477033",
        "outputId": "eb0c3283-b361-4960-8a9d-06c4c89c8770"
      },
      "outputs": [
        {
          "name": "stdout",
          "output_type": "stream",
          "text": [
            "New branch oob successfully created.\n",
            "\n",
            "Training ========================= >>\n",
            "Models: RF, LGB\n",
            "Metric: f1_weighted, neg_log_loss, balanced_accuracy, precision_weighted\n",
            "\n",
            "\n",
            "Running BO for Random Forest...\n"
          ]
        },
        {
          "name": "stderr",
          "output_type": "stream",
          "text": [
            "Iteration 25: 100%|██████████| 25/25 [08:07<00:00, 19.51s/it]    \n"
          ]
        },
        {
          "name": "stdout",
          "output_type": "stream",
          "text": [
            "Bayesian Optimization ---------------------------\n",
            "Best call --> Iteration 20\n",
            "Best parameters --> {'n_estimators': 10, 'criterion': 'gini', 'max_depth': None, 'min_samples_split': 20, 'min_samples_leaf': 20, 'max_features': None, 'bootstrap': True, 'ccp_alpha': 0.0, 'max_samples': 0.9}\n",
            "Best evaluation --> f1_weighted: 0.7215   neg_log_loss: -0.625   balanced_accuracy: 0.6303   precision_weighted: 0.7295\n",
            "Time elapsed: 8m:08s\n",
            "Fit ---------------------------------------------\n",
            "Train evaluation --> f1_weighted: 0.7556   neg_log_loss: -0.5322   balanced_accuracy: 0.6699   precision_weighted: 0.7644\n",
            "Test evaluation --> f1_weighted: 0.7244   neg_log_loss: -0.6157   balanced_accuracy: 0.6348   precision_weighted: 0.7323\n",
            "Time elapsed: 4.348s\n",
            "Bootstrap ---------------------------------------\n",
            "Evaluation --> f1_weighted: 0.7186 ± 0.0013   neg_log_loss: -0.6444 ± 0.0038   balanced_accuracy: 0.631 ± 0.0018   precision_weighted: 0.7252 ± 0.0015\n",
            "Time elapsed: 19.689s\n",
            "-------------------------------------------------\n",
            "Total time: 8m:32s\n",
            "\n",
            "\n",
            "Running BO for LightGBM...\n"
          ]
        },
        {
          "name": "stderr",
          "output_type": "stream",
          "text": [
            "Iteration 25: 100%|██████████| 25/25 [03:30<00:00,  8.42s/it]    \n"
          ]
        },
        {
          "name": "stdout",
          "output_type": "stream",
          "text": [
            "Bayesian Optimization ---------------------------\n",
            "Best call --> Iteration 21\n",
            "Best parameters --> {'n_estimators': 337, 'learning_rate': 0.2658, 'max_depth': 8, 'num_leaves': 40, 'min_child_weight': 0.0001, 'min_child_samples': 19, 'subsample': 0.9, 'colsample_bytree': 0.6, 'reg_alpha': 10, 'reg_lambda': 0.1}\n",
            "Best evaluation --> f1_weighted: 0.7344   neg_log_loss: -0.5886   balanced_accuracy: 0.661   precision_weighted: 0.7404\n",
            "Time elapsed: 3m:30s\n",
            "Fit ---------------------------------------------\n",
            "Train evaluation --> f1_weighted: 0.7596   neg_log_loss: -0.5404   balanced_accuracy: 0.6896   precision_weighted: 0.7665\n",
            "Test evaluation --> f1_weighted: 0.7342   neg_log_loss: -0.586   balanced_accuracy: 0.6586   precision_weighted: 0.7405\n",
            "Time elapsed: 13.421s\n",
            "Bootstrap ---------------------------------------\n",
            "Evaluation --> f1_weighted: 0.7281 ± 0.0007   neg_log_loss: -0.5976 ± 0.0005   balanced_accuracy: 0.6521 ± 0.0014   precision_weighted: 0.7335 ± 0.0008\n",
            "Time elapsed: 39.675s\n",
            "-------------------------------------------------\n",
            "Total time: 4m:24s\n",
            "\n",
            "\n",
            "Final results ==================== >>\n",
            "Duration: 12m:55s\n",
            "-------------------------------------\n",
            "Random Forest --> f1_weighted: 0.7186 ± 0.0013   neg_log_loss: -0.6444 ± 0.0038   balanced_accuracy: 0.631 ± 0.0018   precision_weighted: 0.7252 ± 0.0015\n",
            "LightGBM      --> f1_weighted: 0.7281 ± 0.0007   neg_log_loss: -0.5976 ± 0.0005   balanced_accuracy: 0.6521 ± 0.0014   precision_weighted: 0.7335 ± 0.0008 !\n"
          ]
        },
        {
          "data": {
            "image/png": "[encoded data removed]",
            "text/plain": [
              "<Figure size 720x360 with 1 Axes>"
            ]
          },
          "metadata": {
            "image/png": {
              "height": 347,
              "width": 708
            }
          },
          "output_type": "display_data"
        }
      ],
      "source": [
        "atom.branch = \"oob\"\n",
        "\n",
        "# Fit the models to the data with Bayesian optimisation\n",
        "atom.run(\n",
        "    models=[\"RF\", \"LGB\"],\n",
        "    metric=metric,\n",
        "    n_calls=n_calls,\n",
        "    n_initial_points=n_initial_points,\n",
        "    n_bootstrap=5\n",
        ")\n",
        "\n",
        "# Analyze the results\n",
        "atom.plot_results(title=\"RandomForest, LightGBM\")"
      ]
    },
    {
      "cell_type": "code",
      "execution_count": null,
      "id": "55a719fb",
      "metadata": {
        "scrolled": true,
        "id": "55a719fb",
        "outputId": "4d9f49d5-3690-4b19-9b01-5be8c8b87156"
      },
      "outputs": [
        {
          "data": {
            "image/png": "[encoded data removed]",
            "text/plain": [
              "<Figure size 576x360 with 2 Axes>"
            ]
          },
          "metadata": {
            "image/png": {
              "height": 348,
              "width": 386
            }
          },
          "output_type": "display_data"
        }
      ],
      "source": [
        "atom.rf.plot_confusion_matrix(dataset=\"test\", normalize=True, title=f\"Confusion matrix for RF\", figsize=(8,5)) "
      ]
    },
    {
      "cell_type": "code",
      "execution_count": null,
      "id": "4ff947a5",
      "metadata": {
        "id": "4ff947a5",
        "outputId": "d08bc2d9-bb66-40ba-e204-400ee1a4f45d"
      },
      "outputs": [
        {
          "data": {
            "image/png": "[encoded data removed]",
            "text/plain": [
              "<Figure size 576x360 with 2 Axes>"
            ]
          },
          "metadata": {
            "image/png": {
              "height": 348,
              "width": 386
            }
          },
          "output_type": "display_data"
        }
      ],
      "source": [
        "atom.lgb.plot_confusion_matrix(dataset=\"test\", normalize=True, title=f\"Confusion matrix for LightGBM\", figsize=(8,5)) "
      ]
    },
    {
      "cell_type": "code",
      "execution_count": null,
      "id": "bb1c7f48",
      "metadata": {
        "id": "bb1c7f48",
        "outputId": "8c7dbe84-840d-4693-b309-fc3f6959ac46"
      },
      "outputs": [
        {
          "data": {
            "text/html": [
              "<style type=\"text/css\">\n",
              "#T_82d8a_row0_col5, #T_82d8a_row0_col16, #T_82d8a_row0_col17, #T_82d8a_row0_col18, #T_82d8a_row0_col19, #T_82d8a_row1_col0, #T_82d8a_row1_col1, #T_82d8a_row1_col2, #T_82d8a_row1_col3, #T_82d8a_row1_col4, #T_82d8a_row1_col6, #T_82d8a_row1_col7, #T_82d8a_row1_col8, #T_82d8a_row1_col9, #T_82d8a_row1_col10, #T_82d8a_row1_col11, #T_82d8a_row1_col12, #T_82d8a_row1_col13, #T_82d8a_row1_col14, #T_82d8a_row1_col15 {\n",
              "  color: orange;\n",
              "}\n",
              "</style>\n",
              "<table id=\"T_82d8a\">\n",
              "  <thead>\n",
              "    <tr>\n",
              "      <th class=\"blank level0\" >&nbsp;</th>\n",
              "      <th id=\"T_82d8a_level0_col0\" class=\"col_heading level0 col0\" colspan=\"4\">metric_bo</th>\n",
              "      <th id=\"T_82d8a_level0_col4\" class=\"col_heading level0 col4\" colspan=\"4\">metric_train</th>\n",
              "      <th id=\"T_82d8a_level0_col8\" class=\"col_heading level0 col8\" colspan=\"4\">metric_test</th>\n",
              "      <th id=\"T_82d8a_level0_col12\" class=\"col_heading level0 col12\" colspan=\"4\">mean_bootstrap</th>\n",
              "      <th id=\"T_82d8a_level0_col16\" class=\"col_heading level0 col16\" colspan=\"4\">std_bootstrap</th>\n",
              "    </tr>\n",
              "    <tr>\n",
              "      <th class=\"blank level1\" >&nbsp;</th>\n",
              "      <th id=\"T_82d8a_level1_col0\" class=\"col_heading level1 col0\" >F1_weighted</th>\n",
              "      <th id=\"T_82d8a_level1_col1\" class=\"col_heading level1 col1\" >LogLoss</th>\n",
              "      <th id=\"T_82d8a_level1_col2\" class=\"col_heading level1 col2\" >BA</th>\n",
              "      <th id=\"T_82d8a_level1_col3\" class=\"col_heading level1 col3\" >precision_weighted</th>\n",
              "      <th id=\"T_82d8a_level1_col4\" class=\"col_heading level1 col4\" >F1_weighted</th>\n",
              "      <th id=\"T_82d8a_level1_col5\" class=\"col_heading level1 col5\" >LogLoss</th>\n",
              "      <th id=\"T_82d8a_level1_col6\" class=\"col_heading level1 col6\" >BA</th>\n",
              "      <th id=\"T_82d8a_level1_col7\" class=\"col_heading level1 col7\" >precision_weighted</th>\n",
              "      <th id=\"T_82d8a_level1_col8\" class=\"col_heading level1 col8\" >F1_weighted</th>\n",
              "      <th id=\"T_82d8a_level1_col9\" class=\"col_heading level1 col9\" >LogLoss</th>\n",
              "      <th id=\"T_82d8a_level1_col10\" class=\"col_heading level1 col10\" >BA</th>\n",
              "      <th id=\"T_82d8a_level1_col11\" class=\"col_heading level1 col11\" >precision_weighted</th>\n",
              "      <th id=\"T_82d8a_level1_col12\" class=\"col_heading level1 col12\" >F1_weighted</th>\n",
              "      <th id=\"T_82d8a_level1_col13\" class=\"col_heading level1 col13\" >LogLoss</th>\n",
              "      <th id=\"T_82d8a_level1_col14\" class=\"col_heading level1 col14\" >BA</th>\n",
              "      <th id=\"T_82d8a_level1_col15\" class=\"col_heading level1 col15\" >precision_weighted</th>\n",
              "      <th id=\"T_82d8a_level1_col16\" class=\"col_heading level1 col16\" >F1_weighted</th>\n",
              "      <th id=\"T_82d8a_level1_col17\" class=\"col_heading level1 col17\" >LogLoss</th>\n",
              "      <th id=\"T_82d8a_level1_col18\" class=\"col_heading level1 col18\" >BA</th>\n",
              "      <th id=\"T_82d8a_level1_col19\" class=\"col_heading level1 col19\" >precision_weighted</th>\n",
              "    </tr>\n",
              "  </thead>\n",
              "  <tbody>\n",
              "    <tr>\n",
              "      <th id=\"T_82d8a_level0_row0\" class=\"row_heading level0 row0\" >RF</th>\n",
              "      <td id=\"T_82d8a_row0_col0\" class=\"data row0 col0\" >0.721462</td>\n",
              "      <td id=\"T_82d8a_row0_col1\" class=\"data row0 col1\" >-0.624961</td>\n",
              "      <td id=\"T_82d8a_row0_col2\" class=\"data row0 col2\" >0.630323</td>\n",
              "      <td id=\"T_82d8a_row0_col3\" class=\"data row0 col3\" >0.729533</td>\n",
              "      <td id=\"T_82d8a_row0_col4\" class=\"data row0 col4\" >0.755565</td>\n",
              "      <td id=\"T_82d8a_row0_col5\" class=\"data row0 col5\" >-0.532243</td>\n",
              "      <td id=\"T_82d8a_row0_col6\" class=\"data row0 col6\" >0.669915</td>\n",
              "      <td id=\"T_82d8a_row0_col7\" class=\"data row0 col7\" >0.764380</td>\n",
              "      <td id=\"T_82d8a_row0_col8\" class=\"data row0 col8\" >0.724421</td>\n",
              "      <td id=\"T_82d8a_row0_col9\" class=\"data row0 col9\" >-0.615692</td>\n",
              "      <td id=\"T_82d8a_row0_col10\" class=\"data row0 col10\" >0.634827</td>\n",
              "      <td id=\"T_82d8a_row0_col11\" class=\"data row0 col11\" >0.732286</td>\n",
              "      <td id=\"T_82d8a_row0_col12\" class=\"data row0 col12\" >0.718645</td>\n",
              "      <td id=\"T_82d8a_row0_col13\" class=\"data row0 col13\" >-0.644387</td>\n",
              "      <td id=\"T_82d8a_row0_col14\" class=\"data row0 col14\" >0.630963</td>\n",
              "      <td id=\"T_82d8a_row0_col15\" class=\"data row0 col15\" >0.725231</td>\n",
              "      <td id=\"T_82d8a_row0_col16\" class=\"data row0 col16\" >0.001274</td>\n",
              "      <td id=\"T_82d8a_row0_col17\" class=\"data row0 col17\" >0.003768</td>\n",
              "      <td id=\"T_82d8a_row0_col18\" class=\"data row0 col18\" >0.001834</td>\n",
              "      <td id=\"T_82d8a_row0_col19\" class=\"data row0 col19\" >0.001509</td>\n",
              "    </tr>\n",
              "    <tr>\n",
              "      <th id=\"T_82d8a_level0_row1\" class=\"row_heading level0 row1\" >LGB</th>\n",
              "      <td id=\"T_82d8a_row1_col0\" class=\"data row1 col0\" >0.734445</td>\n",
              "      <td id=\"T_82d8a_row1_col1\" class=\"data row1 col1\" >-0.588567</td>\n",
              "      <td id=\"T_82d8a_row1_col2\" class=\"data row1 col2\" >0.661015</td>\n",
              "      <td id=\"T_82d8a_row1_col3\" class=\"data row1 col3\" >0.740389</td>\n",
              "      <td id=\"T_82d8a_row1_col4\" class=\"data row1 col4\" >0.759599</td>\n",
              "      <td id=\"T_82d8a_row1_col5\" class=\"data row1 col5\" >-0.540398</td>\n",
              "      <td id=\"T_82d8a_row1_col6\" class=\"data row1 col6\" >0.689590</td>\n",
              "      <td id=\"T_82d8a_row1_col7\" class=\"data row1 col7\" >0.766479</td>\n",
              "      <td id=\"T_82d8a_row1_col8\" class=\"data row1 col8\" >0.734229</td>\n",
              "      <td id=\"T_82d8a_row1_col9\" class=\"data row1 col9\" >-0.586042</td>\n",
              "      <td id=\"T_82d8a_row1_col10\" class=\"data row1 col10\" >0.658619</td>\n",
              "      <td id=\"T_82d8a_row1_col11\" class=\"data row1 col11\" >0.740533</td>\n",
              "      <td id=\"T_82d8a_row1_col12\" class=\"data row1 col12\" >0.728076</td>\n",
              "      <td id=\"T_82d8a_row1_col13\" class=\"data row1 col13\" >-0.597582</td>\n",
              "      <td id=\"T_82d8a_row1_col14\" class=\"data row1 col14\" >0.652062</td>\n",
              "      <td id=\"T_82d8a_row1_col15\" class=\"data row1 col15\" >0.733518</td>\n",
              "      <td id=\"T_82d8a_row1_col16\" class=\"data row1 col16\" >0.000690</td>\n",
              "      <td id=\"T_82d8a_row1_col17\" class=\"data row1 col17\" >0.000521</td>\n",
              "      <td id=\"T_82d8a_row1_col18\" class=\"data row1 col18\" >0.001402</td>\n",
              "      <td id=\"T_82d8a_row1_col19\" class=\"data row1 col19\" >0.000795</td>\n",
              "    </tr>\n",
              "  </tbody>\n",
              "</table>\n"
            ],
            "text/plain": [
              "<pandas.io.formats.style.Styler at 0x7f6968af1880>"
            ]
          },
          "execution_count": 16,
          "metadata": {},
          "output_type": "execute_result"
        }
      ],
      "source": [
        "nice_metric_table(atom.results, metric=metric).style.highlight_max(props='color:orange', axis=0)"
      ]
    },
    {
      "cell_type": "code",
      "execution_count": null,
      "id": "a78b94a8",
      "metadata": {
        "id": "a78b94a8",
        "outputId": "78c70e43-5072-4436-9dca-88bf0d823d3c"
      },
      "outputs": [
        {
          "name": "stdout",
          "output_type": "stream",
          "text": [
            "Branch: oob\n",
            " --> Pipeline: \n",
            "   >>> Imputer\n",
            "     --> strat_num: drop\n",
            "     --> strat_cat: drop\n",
            "     --> max_nan_rows: None\n",
            "     --> max_nan_cols: None\n",
            "   >>> Cleaner\n",
            "     --> drop_types: None\n",
            "     --> strip_categorical: True\n",
            "     --> drop_max_cardinality: True\n",
            "     --> drop_min_cardinality: False\n",
            "     --> drop_duplicates: False\n",
            "     --> drop_missing_target: True\n",
            "     --> encode_target: True\n",
            "   >>> Encoder\n",
            "     --> strategy: LeaveOneOut\n",
            "     --> max_onehot: 10\n",
            "     --> ordinal: None\n",
            "     --> frac_to_other: None\n",
            "     --> kwargs: {}\n",
            "   >>> RobustScaler\n",
            "     --> with_centering: True\n",
            "     --> with_scaling: True\n",
            "     --> quantile_range: (25.0, 75.0)\n",
            "     --> copy: True\n",
            "     --> unit_variance: False\n",
            " --> Models: RF, LGB\n"
          ]
        }
      ],
      "source": [
        "atom.branch.status()"
      ]
    },
    {
      "cell_type": "markdown",
      "id": "46cf9e7e",
      "metadata": {
        "id": "46cf9e7e"
      },
      "source": [
        "### MLJAR AutoML"
      ]
    },
    {
      "cell_type": "code",
      "execution_count": null,
      "id": "acc71332",
      "metadata": {
        "ExecuteTime": {
          "end_time": "2022-01-24T10:17:21.317208Z",
          "start_time": "2022-01-24T10:17:11.109796Z"
        },
        "id": "acc71332",
        "outputId": "d1e9a881-d6ae-4bf4-ab5b-c5a061433622"
      },
      "outputs": [
        {
          "name": "stdout",
          "output_type": "stream",
          "text": [
            "New branch auto_ml successfully created.\n"
          ]
        }
      ],
      "source": [
        "atom.verbose = 2\n",
        "atom.branch = \"auto_ml_from_master\""
      ]
    },
    {
      "cell_type": "code",
      "execution_count": null,
      "id": "7de842ce",
      "metadata": {
        "ExecuteTime": {
          "end_time": "2022-01-24T10:17:21.317208Z",
          "start_time": "2022-01-24T10:17:11.109796Z"
        },
        "id": "7de842ce"
      },
      "outputs": [],
      "source": [
        "automl_model = AutoML(mode=\"Perform\", results_path=\"AutoML\", \n",
        "                      train_ensemble=True, eval_metric = \"f1\",\n",
        "                      random_state=random_state, total_time_limit=7200) #\"Explain\" \"Compete\" \"Perform\" \"Optuna\", optuna_time_budget=3600"
      ]
    },
    {
      "cell_type": "code",
      "execution_count": null,
      "id": "5a925e20",
      "metadata": {
        "ExecuteTime": {
          "end_time": "2022-01-24T10:17:21.317208Z",
          "start_time": "2022-01-24T10:17:11.109796Z"
        },
        "id": "5a925e20",
        "outputId": "e8803363-029b-46d1-f5a7-446d2241d809"
      },
      "outputs": [
        {
          "name": "stdout",
          "output_type": "stream",
          "text": [
            "\n",
            "Training ========================= >>\n",
            "Models: auto_ml_model\n",
            "Metric: f1_weighted, neg_log_loss, balanced_accuracy, precision_weighted\n",
            "\n",
            "\n",
            "Results for MLJAR AutoML:\n",
            "Fit ---------------------------------------------\n",
            "Neural Network algorithm was disabled because it doesn't support n_jobs parameter.\n",
            "Linear algorithm was disabled.\n",
            "AutoML directory: AutoML\n",
            "The task is multiclass_classification with evaluation metric f1\n",
            "AutoML will use algorithms: ['Random Forest', 'LightGBM', 'Xgboost', 'CatBoost']\n",
            "AutoML will ensemble available models\n",
            "AutoML steps: ['simple_algorithms', 'default_algorithms', 'not_so_random', 'golden_features', 'insert_random_feature', 'features_selection', 'hill_climbing_1', 'hill_climbing_2', 'ensemble']\n",
            "Skip simple_algorithms because no parameters were generated.\n",
            "* Step default_algorithms will try to check up to 4 models\n",
            "1_Default_LightGBM f1 0.73919 trained in 630.88 seconds (1-sample predict time 0.0442 seconds)\n",
            "2_Default_Xgboost f1 0.736187 trained in 656.23 seconds (1-sample predict time 0.0537 seconds)\n",
            "3_Default_CatBoost f1 0.718435 trained in 108.83 seconds (1-sample predict time 0.0517 seconds)\n",
            "4_Default_RandomForest f1 0.634537 trained in 76.79 seconds (1-sample predict time 0.0748 seconds)\n",
            "* Step not_so_random will try to check up to 16 models\n",
            "9_LightGBM f1 0.740825 trained in 519.21 seconds (1-sample predict time 0.0445 seconds)\n",
            "5_Xgboost f1 0.742662 trained in 518.24 seconds (1-sample predict time 0.0532 seconds)\n",
            "13_CatBoost f1 0.721941 trained in 173.58 seconds (1-sample predict time 0.0509 seconds)\n",
            "17_RandomForest f1 0.630691 trained in 75.3 seconds (1-sample predict time 0.0744 seconds)\n",
            "10_LightGBM f1 0.73766 trained in 510.39 seconds (1-sample predict time 0.0454 seconds)\n",
            "6_Xgboost f1 0.735453 trained in 996.61 seconds (1-sample predict time 0.0547 seconds)\n",
            "14_CatBoost f1 0.725663 trained in 117.07 seconds (1-sample predict time 0.0521 seconds)\n",
            "18_RandomForest f1 0.663159 trained in 117.94 seconds (1-sample predict time 0.0833 seconds)\n",
            "11_LightGBM f1 0.738019 trained in 307.14 seconds (1-sample predict time 0.0434 seconds)\n",
            "* Step golden_features will try to check up to 3 models\n",
            "None 10\n",
            "Add Golden Feature: geo_level_1_id_diff_foundation_type_r\n",
            "Add Golden Feature: foundation_type_i_sum_geo_level_1_id\n",
            "Add Golden Feature: roof_type_x_sum_geo_level_1_id\n",
            "Add Golden Feature: geo_level_1_id_diff_has_superstructure_mud_mortar_stone\n",
            "Add Golden Feature: has_superstructure_rc_engineered_sum_geo_level_1_id\n",
            "Add Golden Feature: geo_level_1_id_diff_has_superstructure_rc_non_engineered\n",
            "Add Golden Feature: has_superstructure_cement_mortar_brick_sum_geo_level_1_id\n",
            "Add Golden Feature: geo_level_1_id_diff_ground_floor_type_m\n",
            "Add Golden Feature: plan_configuration_o_sum_geo_level_1_id\n",
            "Add Golden Feature: plan_configuration_a_sum_geo_level_1_id\n",
            "Created 10 Golden Features in 6.19 seconds.\n",
            "5_Xgboost_GoldenFeatures f1 0.743027 trained in 537.99 seconds (1-sample predict time 0.0734 seconds)\n",
            "Not enough time to perform features selection. Skip\n",
            "Time needed for features selection ~ 1839.0 seconds\n",
            "Please increase total_time_limit to at least (18450 seconds) to have features selection\n",
            "Skip insert_random_feature because no parameters were generated.\n",
            "Skip features_selection because no parameters were generated.\n",
            "* Step hill_climbing_1 will try to check up to 15 models\n",
            "19_Xgboost_GoldenFeatures f1 0.741909 trained in 547.98 seconds (1-sample predict time 0.0722 seconds)\n",
            "20_Xgboost_GoldenFeatures f1 0.743032 trained in 531.3 seconds (1-sample predict time 0.0731 seconds)\n",
            "21_Xgboost f1 0.741674 trained in 417.82 seconds (1-sample predict time 0.0523 seconds)\n",
            "* Step hill_climbing_2 will try to check up to 11 models\n",
            "28_CatBoost f1 0.724478 trained in 133.34 seconds (1-sample predict time 0.0511 seconds)\n",
            "29_CatBoost f1 0.723783 trained in 148.23 seconds (1-sample predict time 0.0515 seconds)\n",
            "* Step ensemble will try to check up to 1 model\n",
            "Ensemble f1 0.744178 trained in 24.77 seconds (1-sample predict time 0.3661 seconds)\n",
            "AutoML fit time: 7218.05 seconds\n",
            "AutoML best model: Ensemble\n",
            "Train evaluation --> f1_weighted: 0.8235   neg_log_loss: -0.4283   balanced_accuracy: 0.7781   precision_weighted: 0.8293\n",
            "Test evaluation --> f1_weighted: 0.7429   neg_log_loss: -0.5697   balanced_accuracy: 0.6694   precision_weighted: 0.7489\n",
            "Time elapsed: 2h:03m:39s\n",
            "-------------------------------------------------\n",
            "Total time: 2h:03m:39s\n",
            "\n",
            "\n",
            "Final results ==================== >>\n",
            "Duration: 2h:03m:39s\n",
            "-------------------------------------\n",
            "MLJAR AutoML --> f1_weighted: 0.7429   neg_log_loss: -0.5697   balanced_accuracy: 0.6694   precision_weighted: 0.7489\n"
          ]
        }
      ],
      "source": [
        "auto_ml_model = ATOMModel(\n",
        "    estimator=automl_model,\n",
        "    acronym=\"auto_ml_model\",\n",
        "    fullname=\"MLJAR AutoML\",\n",
        "    needs_scaling=False,\n",
        ")\n",
        "\n",
        "atom.run(auto_ml_model)"
      ]
    },
    {
      "cell_type": "code",
      "execution_count": null,
      "id": "2c450c8c",
      "metadata": {
        "ExecuteTime": {
          "end_time": "2022-01-24T10:44:38.680252Z",
          "start_time": "2022-01-24T10:44:38.677324Z"
        },
        "id": "2c450c8c",
        "outputId": "ceed5972-409c-407e-a8be-925593878e61"
      },
      "outputs": [
        {
          "name": "stdout",
          "output_type": "stream",
          "text": [
            "Branch: auto_ml\n",
            " --> Pipeline: \n",
            "   >>> Imputer\n",
            "     --> strat_num: drop\n",
            "     --> strat_cat: drop\n",
            "     --> max_nan_rows: None\n",
            "     --> max_nan_cols: None\n",
            "   >>> Cleaner\n",
            "     --> drop_types: None\n",
            "     --> strip_categorical: True\n",
            "     --> drop_max_cardinality: True\n",
            "     --> drop_min_cardinality: False\n",
            "     --> drop_duplicates: False\n",
            "     --> drop_missing_target: True\n",
            "     --> encode_target: True\n",
            "   >>> Encoder\n",
            "     --> strategy: LeaveOneOut\n",
            "     --> max_onehot: 10\n",
            "     --> ordinal: None\n",
            "     --> frac_to_other: None\n",
            "     --> kwargs: {}\n",
            "   >>> RobustScaler\n",
            "     --> with_centering: True\n",
            "     --> with_scaling: True\n",
            "     --> quantile_range: (25.0, 75.0)\n",
            "     --> copy: True\n",
            "     --> unit_variance: False\n",
            " --> Models: auto_ml_model\n"
          ]
        }
      ],
      "source": [
        "# Check the new transformer(s) in the branch\n",
        "atom.branch.status()"
      ]
    },
    {
      "cell_type": "markdown",
      "id": "39a17dbd",
      "metadata": {
        "id": "39a17dbd"
      },
      "source": [
        "#### Generated AutoML reports"
      ]
    },
    {
      "cell_type": "markdown",
      "id": "d00cda26",
      "metadata": {
        "id": "d00cda26"
      },
      "source": [
        "### AutoML Leaderboard\n",
        "\n",
        "| Best model   | name                                                             | model_type    | metric_type   |   metric_value |   train_time |   single_prediction_time |\n",
        "|:-------------|:-----------------------------------------------------------------|:--------------|:--------------|---------------:|-------------:|-------------------------:|\n",
        "|              | [1_Default_LightGBM](./AutoML/1_Default_LightGBM/README.md)               | LightGBM      | f1            |       0.73919  |       632.82 |                   0.0442 |\n",
        "|              | [2_Default_Xgboost](./AutoML/2_Default_Xgboost/README.md)                 | Xgboost       | f1            |       0.736187 |       657.93 |                   0.0537 |\n",
        "|              | [3_Default_CatBoost](./AutoML/3_Default_CatBoost/README.md)               | CatBoost      | f1            |       0.718435 |       110.73 |                   0.0517 |\n",
        "|              | [4_Default_RandomForest](./AutoML/4_Default_RandomForest/README.md)       | Random Forest | f1            |       0.634537 |        78.36 |                   0.0748 |\n",
        "|              | [9_LightGBM](./AutoML/9_LightGBM/README.md)                               | LightGBM      | f1            |       0.740825 |       521.11 |                   0.0445 |\n",
        "|              | [5_Xgboost](./AutoML/5_Xgboost/README.md)                                 | Xgboost       | f1            |       0.742662 |       519.92 |                   0.0532 |\n",
        "|              | [13_CatBoost](./AutoML/13_CatBoost/README.md)                             | CatBoost      | f1            |       0.721941 |       175.51 |                   0.0509 |\n",
        "|              | [17_RandomForest](./AutoML/17_RandomForest/README.md)                     | Random Forest | f1            |       0.630691 |        76.89 |                   0.0744 |\n",
        "|              | [10_LightGBM](./AutoML/10_LightGBM/README.md)                             | LightGBM      | f1            |       0.73766  |       512.29 |                   0.0454 |\n",
        "|              | [6_Xgboost](./AutoML/6_Xgboost/README.md)                                 | Xgboost       | f1            |       0.735453 |       998.32 |                   0.0547 |\n",
        "|              | [14_CatBoost](./AutoML/14_CatBoost/README.md)                             | CatBoost      | f1            |       0.725663 |       118.98 |                   0.0521 |\n",
        "|              | [18_RandomForest](./AutoML/18_RandomForest/README.md)                     | Random Forest | f1            |       0.663159 |       119.6  |                   0.0833 |\n",
        "|              | [11_LightGBM](./AutoML/11_LightGBM/README.md)                             | LightGBM      | f1            |       0.738019 |       309.03 |                   0.0434 |\n",
        "|              | [5_Xgboost_GoldenFeatures](./AutoML/5_Xgboost_GoldenFeatures/README.md)   | Xgboost       | f1            |       0.743027 |       539.68 |                   0.0734 |\n",
        "|              | [19_Xgboost_GoldenFeatures](./AutoML/19_Xgboost_GoldenFeatures/README.md) | Xgboost       | f1            |       0.741909 |       549.65 |                   0.0722 |\n",
        "|              | [20_Xgboost_GoldenFeatures](./AutoML/20_Xgboost_GoldenFeatures/README.md) | Xgboost       | f1            |       0.743032 |       532.98 |                   0.0731 |\n",
        "|              | [21_Xgboost](./AutoML/21_Xgboost/README.md)                               | Xgboost       | f1            |       0.741674 |       419.51 |                   0.0523 |\n",
        "|              | [28_CatBoost](./AutoML/28_CatBoost/README.md)                             | CatBoost      | f1            |       0.724478 |       135.25 |                   0.0511 |\n",
        "|              | [29_CatBoost](./AutoML/29_CatBoost/README.md)                             | CatBoost      | f1            |       0.723783 |       150.14 |                   0.0515 |\n",
        "| **the best** | [Ensemble](./AutoML/Ensemble/README.md)                                   | Ensemble      | f1            |       0.744178 |        24.77 |                   0.3661 |\n",
        "\n",
        "#### AutoML Performance\n",
        "![AutoML Performance](https://github.com/oort77/OTUS_ADV_HW1/blob/main/notebooks/AutoML/ldb_performance.png?raw=1)\n",
        "\n",
        "#### AutoML Performance Boxplot\n",
        "![AutoML Performance Boxplot](https://github.com/oort77/OTUS_ADV_HW1/blob/main/notebooks/AutoML/ldb_performance_boxplot.png?raw=1)\n",
        "\n",
        "#### Features Importance\n",
        "![features importance across models](https://github.com/oort77/OTUS_ADV_HW1/blob/main/notebooks/AutoML/features_heatmap.png?raw=1)\n",
        "\n",
        "\n",
        "\n",
        "#### Spearman Correlation of Models\n",
        "![models spearman correlation](https://github.com/oort77/OTUS_ADV_HW1/blob/main/notebooks/AutoML/correlation_heatmap.png?raw=1)\n"
      ]
    },
    {
      "cell_type": "markdown",
      "id": "501a5533",
      "metadata": {
        "id": "501a5533"
      },
      "source": [
        "### Summary of AutoML Ensemble model\n"
      ]
    },
    {
      "cell_type": "markdown",
      "id": "38cb5cee",
      "metadata": {
        "id": "38cb5cee"
      },
      "source": [
        "\n",
        "#### Ensemble structure\n",
        "| Model                     |   Weight |\n",
        "|:--------------------------|---------:|\n",
        "| 19_Xgboost_GoldenFeatures |        2 |\n",
        "| 20_Xgboost_GoldenFeatures |        4 |\n",
        "| 21_Xgboost                |        1 |\n",
        "| 5_Xgboost                 |        3 |\n",
        "| 5_Xgboost_GoldenFeatures  |        3 |\n",
        "| 9_LightGBM                |        1 |\n",
        "\n",
        "#### Metric details\n",
        "|           |            0 |             1 |            2 |   accuracy |     macro avg |   weighted avg |   logloss |\n",
        "|:----------|-------------:|--------------:|-------------:|-----------:|--------------:|---------------:|----------:|\n",
        "| precision |     0.697017 |      0.74324  |     0.758372 |   0.744178 |      0.732876 |       0.743852 |  0.576282 |\n",
        "| recall    |     0.512943 |      0.849839 |     0.631163 |   0.744178 |      0.664648 |       0.744178 |  0.576282 |\n",
        "| f1-score  |     0.590978 |      0.792973 |     0.688945 |   0.744178 |      0.690965 |       0.738688 |  0.576282 |\n",
        "| support   | 20088        | 118606        | 69787        |   0.744178 | 208481        |  208481        |  0.576282 |\n",
        "\n",
        "\n",
        "#### Confusion matrix\n",
        "|              |   Predicted as 0 |   Predicted as 1 |   Predicted as 2 |\n",
        "|:-------------|-----------------:|-----------------:|-----------------:|\n",
        "| Labeled as 0 |            10304 |             9470 |              314 |\n",
        "| Labeled as 1 |             4090 |           100796 |            13720 |\n",
        "| Labeled as 2 |              389 |            25351 |            44047 |\n",
        "\n",
        "#### Learning curves\n",
        "![Learning curves](https://github.com/oort77/OTUS_ADV_HW1/blob/main/notebooks/AutoML/Ensemble/learning_curves.png?raw=1)\n",
        "#### Confusion Matrix\n",
        "\n",
        "![Confusion Matrix](https://github.com/oort77/OTUS_ADV_HW1/blob/main/notebooks/AutoML/Ensemble/confusion_matrix.png?raw=1)\n",
        "\n",
        "\n",
        "#### Normalized Confusion Matrix\n",
        "\n",
        "![Normalized Confusion Matrix](https://github.com/oort77/OTUS_ADV_HW1/blob/main/notebooks/AutoML/Ensemble/confusion_matrix_normalized.png?raw=1)\n",
        "\n",
        "\n",
        "#### ROC Curve\n",
        "\n",
        "![ROC Curve](https://github.com/oort77/OTUS_ADV_HW1/blob/main/notebooks/AutoML/Ensemble/roc_curve.png?raw=1)\n",
        "\n",
        "\n",
        "#### Precision Recall Curve\n",
        "\n",
        "![Precision Recall Curve](https://github.com/oort77/OTUS_ADV_HW1/blob/main/notebooks/AutoML/Ensemble/precision_recall_curve.png?raw=1)\n",
        "\n"
      ]
    },
    {
      "cell_type": "markdown",
      "id": "cdf3017f",
      "metadata": {
        "id": "cdf3017f"
      },
      "source": [
        "### Final model"
      ]
    },
    {
      "cell_type": "code",
      "execution_count": null,
      "id": "695dc9d0",
      "metadata": {
        "ExecuteTime": {
          "end_time": "2022-01-24T10:31:33.457542Z",
          "start_time": "2022-01-24T10:31:33.457532Z"
        },
        "id": "695dc9d0",
        "outputId": "5b5a412d-6c8a-41b1-f47d-824255b01ab4"
      },
      "outputs": [
        {
          "name": "stdout",
          "output_type": "stream",
          "text": [
            "Branch: auto_ml\n",
            " --> Pipeline: \n",
            "   >>> Imputer\n",
            "     --> strat_num: drop\n",
            "     --> strat_cat: drop\n",
            "     --> max_nan_rows: None\n",
            "     --> max_nan_cols: None\n",
            "   >>> Cleaner\n",
            "     --> drop_types: None\n",
            "     --> strip_categorical: True\n",
            "     --> drop_max_cardinality: True\n",
            "     --> drop_min_cardinality: False\n",
            "     --> drop_duplicates: False\n",
            "     --> drop_missing_target: True\n",
            "     --> encode_target: True\n",
            "   >>> Encoder\n",
            "     --> strategy: LeaveOneOut\n",
            "     --> max_onehot: 10\n",
            "     --> ordinal: None\n",
            "     --> frac_to_other: None\n",
            "     --> kwargs: {}\n",
            "   >>> RobustScaler\n",
            "     --> with_centering: True\n",
            "     --> with_scaling: True\n",
            "     --> quantile_range: (25.0, 75.0)\n",
            "     --> copy: True\n",
            "     --> unit_variance: False\n",
            " --> Models: auto_ml_model\n"
          ]
        }
      ],
      "source": [
        "atom.branch.status()"
      ]
    },
    {
      "cell_type": "markdown",
      "id": "a151fc41",
      "metadata": {
        "id": "a151fc41"
      },
      "source": [
        "### Comparison of results: OOB vs AutoML"
      ]
    },
    {
      "cell_type": "code",
      "execution_count": null,
      "id": "e1b28898",
      "metadata": {
        "ExecuteTime": {
          "end_time": "2022-01-24T10:31:33.451173Z",
          "start_time": "2022-01-24T10:31:33.451163Z"
        },
        "scrolled": true,
        "id": "e1b28898",
        "outputId": "24badb49-e13d-44c0-bbed-47e9f9510eaf"
      },
      "outputs": [
        {
          "data": {
            "text/html": [
              "<style type=\"text/css\">\n",
              "#T_9c1d3_row0_col16, #T_9c1d3_row0_col17, #T_9c1d3_row0_col18, #T_9c1d3_row0_col19, #T_9c1d3_row1_col0, #T_9c1d3_row1_col1, #T_9c1d3_row1_col2, #T_9c1d3_row1_col3, #T_9c1d3_row1_col12, #T_9c1d3_row1_col13, #T_9c1d3_row1_col14, #T_9c1d3_row1_col15, #T_9c1d3_row2_col4, #T_9c1d3_row2_col5, #T_9c1d3_row2_col6, #T_9c1d3_row2_col7, #T_9c1d3_row2_col8, #T_9c1d3_row2_col9, #T_9c1d3_row2_col10, #T_9c1d3_row2_col11 {\n",
              "  color: orange;\n",
              "}\n",
              "</style>\n",
              "<table id=\"T_9c1d3\">\n",
              "  <thead>\n",
              "    <tr>\n",
              "      <th class=\"blank level0\" >&nbsp;</th>\n",
              "      <th id=\"T_9c1d3_level0_col0\" class=\"col_heading level0 col0\" colspan=\"4\">metric_bo</th>\n",
              "      <th id=\"T_9c1d3_level0_col4\" class=\"col_heading level0 col4\" colspan=\"4\">metric_train</th>\n",
              "      <th id=\"T_9c1d3_level0_col8\" class=\"col_heading level0 col8\" colspan=\"4\">metric_test</th>\n",
              "      <th id=\"T_9c1d3_level0_col12\" class=\"col_heading level0 col12\" colspan=\"4\">mean_bootstrap</th>\n",
              "      <th id=\"T_9c1d3_level0_col16\" class=\"col_heading level0 col16\" colspan=\"4\">std_bootstrap</th>\n",
              "    </tr>\n",
              "    <tr>\n",
              "      <th class=\"blank level1\" >&nbsp;</th>\n",
              "      <th id=\"T_9c1d3_level1_col0\" class=\"col_heading level1 col0\" >F1_weighted</th>\n",
              "      <th id=\"T_9c1d3_level1_col1\" class=\"col_heading level1 col1\" >LogLoss</th>\n",
              "      <th id=\"T_9c1d3_level1_col2\" class=\"col_heading level1 col2\" >BA</th>\n",
              "      <th id=\"T_9c1d3_level1_col3\" class=\"col_heading level1 col3\" >precision_weighted</th>\n",
              "      <th id=\"T_9c1d3_level1_col4\" class=\"col_heading level1 col4\" >F1_weighted</th>\n",
              "      <th id=\"T_9c1d3_level1_col5\" class=\"col_heading level1 col5\" >LogLoss</th>\n",
              "      <th id=\"T_9c1d3_level1_col6\" class=\"col_heading level1 col6\" >BA</th>\n",
              "      <th id=\"T_9c1d3_level1_col7\" class=\"col_heading level1 col7\" >precision_weighted</th>\n",
              "      <th id=\"T_9c1d3_level1_col8\" class=\"col_heading level1 col8\" >F1_weighted</th>\n",
              "      <th id=\"T_9c1d3_level1_col9\" class=\"col_heading level1 col9\" >LogLoss</th>\n",
              "      <th id=\"T_9c1d3_level1_col10\" class=\"col_heading level1 col10\" >BA</th>\n",
              "      <th id=\"T_9c1d3_level1_col11\" class=\"col_heading level1 col11\" >precision_weighted</th>\n",
              "      <th id=\"T_9c1d3_level1_col12\" class=\"col_heading level1 col12\" >F1_weighted</th>\n",
              "      <th id=\"T_9c1d3_level1_col13\" class=\"col_heading level1 col13\" >LogLoss</th>\n",
              "      <th id=\"T_9c1d3_level1_col14\" class=\"col_heading level1 col14\" >BA</th>\n",
              "      <th id=\"T_9c1d3_level1_col15\" class=\"col_heading level1 col15\" >precision_weighted</th>\n",
              "      <th id=\"T_9c1d3_level1_col16\" class=\"col_heading level1 col16\" >F1_weighted</th>\n",
              "      <th id=\"T_9c1d3_level1_col17\" class=\"col_heading level1 col17\" >LogLoss</th>\n",
              "      <th id=\"T_9c1d3_level1_col18\" class=\"col_heading level1 col18\" >BA</th>\n",
              "      <th id=\"T_9c1d3_level1_col19\" class=\"col_heading level1 col19\" >precision_weighted</th>\n",
              "    </tr>\n",
              "  </thead>\n",
              "  <tbody>\n",
              "    <tr>\n",
              "      <th id=\"T_9c1d3_level0_row0\" class=\"row_heading level0 row0\" >RF</th>\n",
              "      <td id=\"T_9c1d3_row0_col0\" class=\"data row0 col0\" >0.721462</td>\n",
              "      <td id=\"T_9c1d3_row0_col1\" class=\"data row0 col1\" >-0.624961</td>\n",
              "      <td id=\"T_9c1d3_row0_col2\" class=\"data row0 col2\" >0.630323</td>\n",
              "      <td id=\"T_9c1d3_row0_col3\" class=\"data row0 col3\" >0.729533</td>\n",
              "      <td id=\"T_9c1d3_row0_col4\" class=\"data row0 col4\" >0.755565</td>\n",
              "      <td id=\"T_9c1d3_row0_col5\" class=\"data row0 col5\" >-0.532243</td>\n",
              "      <td id=\"T_9c1d3_row0_col6\" class=\"data row0 col6\" >0.669915</td>\n",
              "      <td id=\"T_9c1d3_row0_col7\" class=\"data row0 col7\" >0.764380</td>\n",
              "      <td id=\"T_9c1d3_row0_col8\" class=\"data row0 col8\" >0.724421</td>\n",
              "      <td id=\"T_9c1d3_row0_col9\" class=\"data row0 col9\" >-0.615692</td>\n",
              "      <td id=\"T_9c1d3_row0_col10\" class=\"data row0 col10\" >0.634827</td>\n",
              "      <td id=\"T_9c1d3_row0_col11\" class=\"data row0 col11\" >0.732286</td>\n",
              "      <td id=\"T_9c1d3_row0_col12\" class=\"data row0 col12\" >0.718645</td>\n",
              "      <td id=\"T_9c1d3_row0_col13\" class=\"data row0 col13\" >-0.644387</td>\n",
              "      <td id=\"T_9c1d3_row0_col14\" class=\"data row0 col14\" >0.630963</td>\n",
              "      <td id=\"T_9c1d3_row0_col15\" class=\"data row0 col15\" >0.725231</td>\n",
              "      <td id=\"T_9c1d3_row0_col16\" class=\"data row0 col16\" >0.001274</td>\n",
              "      <td id=\"T_9c1d3_row0_col17\" class=\"data row0 col17\" >0.003768</td>\n",
              "      <td id=\"T_9c1d3_row0_col18\" class=\"data row0 col18\" >0.001834</td>\n",
              "      <td id=\"T_9c1d3_row0_col19\" class=\"data row0 col19\" >0.001509</td>\n",
              "    </tr>\n",
              "    <tr>\n",
              "      <th id=\"T_9c1d3_level0_row1\" class=\"row_heading level0 row1\" >LGB</th>\n",
              "      <td id=\"T_9c1d3_row1_col0\" class=\"data row1 col0\" >0.734445</td>\n",
              "      <td id=\"T_9c1d3_row1_col1\" class=\"data row1 col1\" >-0.588567</td>\n",
              "      <td id=\"T_9c1d3_row1_col2\" class=\"data row1 col2\" >0.661015</td>\n",
              "      <td id=\"T_9c1d3_row1_col3\" class=\"data row1 col3\" >0.740389</td>\n",
              "      <td id=\"T_9c1d3_row1_col4\" class=\"data row1 col4\" >0.759599</td>\n",
              "      <td id=\"T_9c1d3_row1_col5\" class=\"data row1 col5\" >-0.540398</td>\n",
              "      <td id=\"T_9c1d3_row1_col6\" class=\"data row1 col6\" >0.689590</td>\n",
              "      <td id=\"T_9c1d3_row1_col7\" class=\"data row1 col7\" >0.766479</td>\n",
              "      <td id=\"T_9c1d3_row1_col8\" class=\"data row1 col8\" >0.734229</td>\n",
              "      <td id=\"T_9c1d3_row1_col9\" class=\"data row1 col9\" >-0.586042</td>\n",
              "      <td id=\"T_9c1d3_row1_col10\" class=\"data row1 col10\" >0.658619</td>\n",
              "      <td id=\"T_9c1d3_row1_col11\" class=\"data row1 col11\" >0.740533</td>\n",
              "      <td id=\"T_9c1d3_row1_col12\" class=\"data row1 col12\" >0.728076</td>\n",
              "      <td id=\"T_9c1d3_row1_col13\" class=\"data row1 col13\" >-0.597582</td>\n",
              "      <td id=\"T_9c1d3_row1_col14\" class=\"data row1 col14\" >0.652062</td>\n",
              "      <td id=\"T_9c1d3_row1_col15\" class=\"data row1 col15\" >0.733518</td>\n",
              "      <td id=\"T_9c1d3_row1_col16\" class=\"data row1 col16\" >0.000690</td>\n",
              "      <td id=\"T_9c1d3_row1_col17\" class=\"data row1 col17\" >0.000521</td>\n",
              "      <td id=\"T_9c1d3_row1_col18\" class=\"data row1 col18\" >0.001402</td>\n",
              "      <td id=\"T_9c1d3_row1_col19\" class=\"data row1 col19\" >0.000795</td>\n",
              "    </tr>\n",
              "    <tr>\n",
              "      <th id=\"T_9c1d3_level0_row2\" class=\"row_heading level0 row2\" >auto_ml_model</th>\n",
              "      <td id=\"T_9c1d3_row2_col0\" class=\"data row2 col0\" >nan</td>\n",
              "      <td id=\"T_9c1d3_row2_col1\" class=\"data row2 col1\" >nan</td>\n",
              "      <td id=\"T_9c1d3_row2_col2\" class=\"data row2 col2\" >nan</td>\n",
              "      <td id=\"T_9c1d3_row2_col3\" class=\"data row2 col3\" >nan</td>\n",
              "      <td id=\"T_9c1d3_row2_col4\" class=\"data row2 col4\" >0.823456</td>\n",
              "      <td id=\"T_9c1d3_row2_col5\" class=\"data row2 col5\" >-0.428333</td>\n",
              "      <td id=\"T_9c1d3_row2_col6\" class=\"data row2 col6\" >0.778093</td>\n",
              "      <td id=\"T_9c1d3_row2_col7\" class=\"data row2 col7\" >0.829299</td>\n",
              "      <td id=\"T_9c1d3_row2_col8\" class=\"data row2 col8\" >0.742913</td>\n",
              "      <td id=\"T_9c1d3_row2_col9\" class=\"data row2 col9\" >-0.569744</td>\n",
              "      <td id=\"T_9c1d3_row2_col10\" class=\"data row2 col10\" >0.669442</td>\n",
              "      <td id=\"T_9c1d3_row2_col11\" class=\"data row2 col11\" >0.748947</td>\n",
              "      <td id=\"T_9c1d3_row2_col12\" class=\"data row2 col12\" >nan</td>\n",
              "      <td id=\"T_9c1d3_row2_col13\" class=\"data row2 col13\" >nan</td>\n",
              "      <td id=\"T_9c1d3_row2_col14\" class=\"data row2 col14\" >nan</td>\n",
              "      <td id=\"T_9c1d3_row2_col15\" class=\"data row2 col15\" >nan</td>\n",
              "      <td id=\"T_9c1d3_row2_col16\" class=\"data row2 col16\" >nan</td>\n",
              "      <td id=\"T_9c1d3_row2_col17\" class=\"data row2 col17\" >nan</td>\n",
              "      <td id=\"T_9c1d3_row2_col18\" class=\"data row2 col18\" >nan</td>\n",
              "      <td id=\"T_9c1d3_row2_col19\" class=\"data row2 col19\" >nan</td>\n",
              "    </tr>\n",
              "  </tbody>\n",
              "</table>\n"
            ],
            "text/plain": [
              "<pandas.io.formats.style.Styler at 0x7f6946ab6fd0>"
            ]
          },
          "execution_count": 26,
          "metadata": {},
          "output_type": "execute_result"
        }
      ],
      "source": [
        "nice_metric_table(atom.results, metric=metric).style.highlight_max(props='color:orange', axis=0)"
      ]
    },
    {
      "cell_type": "markdown",
      "id": "09653492",
      "metadata": {
        "id": "09653492"
      },
      "source": [
        "### Conclusion  \n",
        "\n",
        "**mljar-supervised** AutoML model beats **OOB** models of the same class hands down despite the fact that the latter have Bayesian-optimized H/Ps. AutoML Library \"Perform\" mode is a convenient compromise between learning time and quality of the resulting model."
      ]
    },
    {
      "cell_type": "code",
      "source": [
        ""
      ],
      "metadata": {
        "id": "qVezwv7adglJ"
      },
      "id": "qVezwv7adglJ",
      "execution_count": null,
      "outputs": []
    }
  ],
  "metadata": {
    "kernelspec": {
      "display_name": "Python 3 (ipykernel)",
      "language": "python",
      "name": "python3"
    },
    "language_info": {
      "codemirror_mode": {
        "name": "ipython",
        "version": 3
      },
      "file_extension": ".py",
      "mimetype": "text/x-python",
      "name": "python",
      "nbconvert_exporter": "python",
      "pygments_lexer": "ipython3",
      "version": "3.8.12"
    },
    "toc": {
      "base_numbering": 1,
      "nav_menu": {},
      "number_sections": true,
      "sideBar": true,
      "skip_h1_title": true,
      "title_cell": "Table of Contents",
      "title_sidebar": "Contents",
      "toc_cell": false,
      "toc_position": {
        "height": "calc(100% - 180px)",
        "left": "10px",
        "top": "150px",
        "width": "322.422px"
      },
      "toc_section_display": true,
      "toc_window_display": true
    },
    "colab": {
      "name": "otus_adv_hw1_automl_mljar.ipynb",
      "provenance": []
    }
  },
  "nbformat": 4,
  "nbformat_minor": 5
}